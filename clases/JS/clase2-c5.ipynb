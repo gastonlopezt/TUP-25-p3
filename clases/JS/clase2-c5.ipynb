{
 "cells": [
  {
   "cell_type": "code",
   "execution_count": null,
   "id": "358c08f4",
   "metadata": {},
   "outputs": [],
   "source": []
  },
  {
   "cell_type": "code",
   "execution_count": 2,
   "id": "65d94c62",
   "metadata": {},
   "outputs": [],
   "source": [
    "// let a = [1,2,3,4,5]\n",
    "// let x = a[0]\n",
    "// let y = a[1]\n",
    "\n",
    "// let [v,w] = a\n",
    "// console.log(x, y); // 1 2\n",
    "// console.log(v, w, z); // 1 2\n",
    "\n",
    "// let b = [];\n",
    "// for (let x of a) {\n",
    "//     b.push(x);\n",
    "// }\n",
    "// b[0] = 1000;\n",
    "// let c = [3000, ...a, 1000, ...a];\n",
    "// c[0] = 2000;\n",
    "\n",
    "// console.log('a',a); // [1000, 2, 3, 4, 5]\n",
    "// console.log('b',b); // [1000, 2, 3, 4, 5]\n",
    "// console.log('c', c); // [2000, 2, 3, 4, 5]\n",
    "// let d = [...a, 1000]"
   ]
  },
  {
   "cell_type": "code",
   "execution_count": 3,
   "id": "518f9ab3",
   "metadata": {},
   "outputs": [
    {
     "name": "stdout",
     "output_type": "stream",
     "text": [
      "a 1\n",
      "b 10\n",
      "z 0\n",
      "11\n"
     ]
    }
   ],
   "source": [
    "function suma(a, b=1000000, z=0) {\n",
    "    console.log('a',a); // [3, 4, 5]\n",
    "    console.log('b',b); // 2\n",
    "    console.log('z', z); // [3, 4, 5]\n",
    "    return a + b + z;\n",
    "}\n",
    "\n",
    "let s = suma(1,10);\n",
    "console.log(s); // 3\n"
   ]
  },
  {
   "cell_type": "code",
   "execution_count": 4,
   "id": "08c553b5",
   "metadata": {},
   "outputs": [
    {
     "name": "stdout",
     "output_type": "stream",
     "text": [
      "{ x: 1000, y: NaN } undefined\n",
      "{ x: 10, y: 20, z: 1000 }\n"
     ]
    }
   ],
   "source": [
    "let o = {x: 1, y: 2, z: 3, x: 1000};\n",
    "\n",
    "o = {}\n",
    "o.x = 1;\n",
    "\n",
    "o.y = o.y + 1;\n",
    "o['x'] = 1000; // Overwrites the previous value of 'x'  \n",
    "\n",
    "\n",
    "o['x'] = 1000;\n",
    "console.log(o,o['z']); // { x: 1000, y: 2, z: 3 }\n",
    "\n",
    "let x = 10;\n",
    "let y = 20;\n",
    "let punto = {x, y: y, 'z': 1000};\n",
    "console.log(punto); // { x: 10, y: 20, z: 1000 }"
   ]
  },
  {
   "cell_type": "code",
   "execution_count": 5,
   "id": "a8f588e2",
   "metadata": {},
   "outputs": [
    {
     "name": "stdout",
     "output_type": "stream",
     "text": [
      "Juan Perez 22\n",
      "Juan { apellido: 'Perez' }\n",
      "Juan Perez\n",
      "Juan Perez\n",
      "Juan Perez 22\n",
      "{ x: 10, y: 20 }\n"
     ]
    }
   ],
   "source": [
    "let persona = {nombre:'Juan', apellido:'Perez'};\n",
    "// let nombre = persona.nombre, apellido = persona.apellido;\n",
    "let {nombre, apellido, edad=22} = persona;\n",
    "console.log(nombre, apellido, edad); \n",
    "let {nombre: n, ...resto} = persona//\n",
    "console.log(n,resto) \n",
    "\n",
    "function mostrar1(persona){\n",
    "    let nombre   = persona.nombre, \n",
    "        apellido = persona.apellido;\n",
    "    console.log(nombre, apellido);\n",
    "}\n",
    "\n",
    "function mostrar2(persona){\n",
    "    let {nombre, apellido} = persona\n",
    "    console.log(nombre, apellido);\n",
    "}\n",
    "\n",
    "function mostrar3({nombre:n, apellido, edad=22,...resto}){\n",
    "    console.log(n, apellido, edad);\n",
    "}\n",
    "\n",
    "mostrar1(persona); // Juan Perez\n",
    "mostrar2(persona); // Juan Perez\n",
    "mostrar3(persona); // Juan Perez\n",
    "\n",
    "function par(x,y){\n",
    "    return {x, y};\n",
    "}\n",
    "\n",
    "console.log(par(10,20));\n",
    "\n",
    "function Persona(nombre, apellido, edad=22){\n",
    "    this.nombre = nombre;\n",
    "    this.apellido = apellido;\n",
    "    this.edad = edad;\n",
    "}"
   ]
  },
  {
   "cell_type": "code",
   "execution_count": 6,
   "id": "e149a405",
   "metadata": {},
   "outputs": [
    {
     "name": "stdout",
     "output_type": "stream",
     "text": [
      "{ nombre: 'Pepe', apellido: 'Perez' }\n",
      "{ nombre: 'Clotilde', apellido: 'Perez' }\n",
      "{ nombre: 'Juan', apellido: 'Perez' }\n",
      "Juan⭐️ Perez\n",
      "{ nombre: 'Juan⭐️', apellido: 'Perez' }\n"
     ]
    }
   ],
   "source": [
    "\n",
    "let p1 = {};\n",
    "for(let key in persona){\n",
    "    p1[key] = persona[key];\n",
    "}\n",
    "p1.nombre = 'Pepe'\n",
    "let p2 = {...persona, nombre:'Clotilde'};\n",
    "console.log(p1); // { nombre: 'Pepe', apellido: 'Perez' }\n",
    "console.log(p2);\n",
    "console.log(persona); // { nombre: 'Pepe', apellido: 'Perez' }\n",
    "\n",
    "function nombreCompleto(persona){\n",
    "    persona.nombre = persona.nombre + '⭐️';\n",
    "    return `${persona.nombre} ${persona.apellido}`;\n",
    "}\n",
    "\n",
    "console.log(nombreCompleto(persona));\n",
    "console.log(persona) // Pepe Perez"
   ]
  },
  {
   "cell_type": "code",
   "execution_count": 7,
   "id": "58b8fc29",
   "metadata": {},
   "outputs": [
    {
     "data": {
      "text/plain": [
       "0.20833333333333334"
      ]
     },
     "execution_count": 7,
     "metadata": {},
     "output_type": "execute_result"
    }
   ],
   "source": [
    "function sumador(lista){\n",
    "    let resultado = lista.pop();\n",
    "    for(let x of lista){\n",
    "        resultado = resultado + x\n",
    "    }\n",
    "    return resultado;\n",
    "}\n",
    "function multiplicador(lista){\n",
    "    let resultado = lista.pop();\n",
    "    for(let x of lista){\n",
    "        resultado = resultado * x;\n",
    "    }\n",
    "    return resultado;\n",
    "}\n",
    "function contador(lista){\n",
    "    let resultado = lista.pop();\n",
    "    for(let x of lista){\n",
    "        resultado = resultado + 1;\n",
    "    }\n",
    "    return resultado;\n",
    "}\n",
    "function procesar(lista, fun){\n",
    "    let resultado = lista.pop();\n",
    "    for(let x of lista){\n",
    "        resultado = fun(resultado, x);\n",
    "    }   \n",
    "    return resultado;\n",
    "}\n",
    "\n",
    "function sumar(a, b){\n",
    "    return a + b;\n",
    "}\n",
    "\n",
    "procesar([1,2,3,4,5], sumar); // 15\n",
    "procesar([1,2,3,4,5], (a,b) => a * b); // 15\n",
    "procesar([1,2,3,4,5], (a,b) => a + 1); // 6\n",
    "procesar([1,2,3,4,5], (a,b) => a / b); // -13"
   ]
  },
  {
   "cell_type": "code",
   "execution_count": 8,
   "id": "4e5e5165",
   "metadata": {},
   "outputs": [
    {
     "name": "stdout",
     "output_type": "stream",
     "text": [
      "[ 2, 4, 6, 8, 10 ]\n",
      "[ 1, 8, 27, 64, 125 ]\n",
      "[ 2, 4, 6, 8, 10 ]\n",
      "[ 1, 8, 27, 64, 125 ]\n"
     ]
    }
   ],
   "source": [
    "function map(lista, fun){\n",
    "    let resultado = [];\n",
    "    for(let x of lista){\n",
    "        resultado.push(fun(x));\n",
    "    }\n",
    "    return resultado;\n",
    "}\n",
    "let doble = x => x * 2;\n",
    "let cubo = x => x * x * x;\n",
    "console.log(map([1,2,3,4,5], doble)); // [2, 4, 6, 8, 10]\n",
    "console.log(map([1,2,3,4,5], cubo)); // [1, 8, 27, 64, 125]\n",
    "console.log(map([1,2,3,4,5], x => x * 2)); // [2, 4, 6, 8, 10]\n",
    "console.log(map([1,2,3,4,5], x => x * x * x)); // [2, 4, 6, 8, 10]"
   ]
  },
  {
   "cell_type": "code",
   "execution_count": null,
   "id": "1b27925b",
   "metadata": {},
   "outputs": [
    {
     "name": "stdout",
     "output_type": "stream",
     "text": [
      "[ 2, 4 ]\n",
      "[ 2, 4 ]\n",
      "[ 1, 3, 5 ]\n"
     ]
    }
   ],
   "source": [
    "function filter(lista, fun){\n",
    "    let resultado = [];\n",
    "    for(let x of lista){\n",
    "        if(fun(x)){\n",
    "            resultado.push(x);\n",
    "        }\n",
    "    }\n",
    "    return resultado;\n",
    "}\n",
    "let esPar   = x => x % 2 === 0;\n",
    "let esImpar = x => x % 2 !== 0;\n",
    "\n",
    "console.log(filter([1,2,3,4,5], esPar)); // [2, 4]\n",
    "console.log(filter([1,2,3,4,5], x => x % 2 ==0)); // [1, 3, 5]\n",
    "console.log(filter([1,2,3,4,5], esImpar)); // [1, 3, 5]\n",
    "\n",
    "let numeros = [1,2,3,4,5];\n",
    "let pares = numeros.filter(x => x % 2 === 0);\n",
    "let doble = numeros\n",
    "                .filter(x => x % 2 === 0)\n",
    "                .map(x => x * 2)\n",
    "                .reduce((a, b) => a * b, 1);\n"
   ]
  }
 ],
 "metadata": {
  "kernelspec": {
   "display_name": "JavaScript (Node.js)",
   "language": "javascript",
   "name": "javascript"
  },
  "language_info": {
   "file_extension": ".js",
   "mimetype": "application/javascript",
   "name": "javascript",
   "version": "20.18.1"
  }
 },
 "nbformat": 4,
 "nbformat_minor": 5
}
