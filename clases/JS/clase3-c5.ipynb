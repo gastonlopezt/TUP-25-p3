{
 "cells": [
  {
   "cell_type": "code",
   "execution_count": 2,
   "id": "fb04a724",
   "metadata": {},
   "outputs": [
    {
     "name": "stdout",
     "output_type": "stream",
     "text": [
      "Hola, mi nombre es Juan Pérez.\n"
     ]
    }
   ],
   "source": [
    "let persona = {\n",
    "    nombre: \"Juan\",\n",
    "    apellido: \"Pérez\",\n",
    "\n",
    "    nombreCompleto: function () {\n",
    "        return `${this.nombre} ${this.apellido}`;\n",
    "    }\n",
    "}\n",
    "// function nombreCompleto(persona) {\n",
    "//     return `${persona.nombre} ${persona.apellido}`;\n",
    "// }\n",
    "// console.log(`Hola, mi nombre es ${nombreCompleto(persona)}.`);\n",
    "\n",
    "console.log(`Hola, mi nombre es ${persona.nombreCompleto()}.`);"
   ]
  },
  {
   "cell_type": "code",
   "execution_count": 3,
   "id": "2619a30c",
   "metadata": {},
   "outputs": [
    {
     "name": "stdout",
     "output_type": "stream",
     "text": [
      "Hola, mi nombre es Luis Gómez.\n",
      "Hola, mi nombre es María López.\n"
     ]
    }
   ],
   "source": [
    "function Persona(nombre, apellido) {\n",
    "    // let tmp = {}\n",
    "    this.nombre = nombre;\n",
    "    this.apellido = apellido;\n",
    "\n",
    "    this.nombreCompleto = function () {\n",
    "        return `${this.nombre} ${this.apellido}`;\n",
    "    }\n",
    "    // return tmp;\n",
    "}\n",
    "\n",
    "let luis  = new Persona(\"Luis\", \"Gómez\");\n",
    "let maria = new Persona(\"María\", \"López\");\n",
    "console.log(`Hola, mi nombre es ${luis.nombreCompleto()}.`);\n",
    "console.log(`Hola, mi nombre es ${maria.nombreCompleto()}.`);"
   ]
  },
  {
   "cell_type": "code",
   "execution_count": 4,
   "id": "65236192",
   "metadata": {},
   "outputs": [
    {
     "name": "stdout",
     "output_type": "stream",
     "text": [
      "Hola, mi nombre es Luis Gómez y tengo 25 años.\n"
     ]
    },
    {
     "name": "stderr",
     "output_type": "stream",
     "text": [
      "La edad no puede ser negativa.\n"
     ]
    },
    {
     "name": "stdout",
     "output_type": "stream",
     "text": [
      "Hola, mi nombre es Luis Gómez y tengo 25 años.\n",
      "Hola, mi nombre es Luis Gómez y tengo 28 años.\n"
     ]
    }
   ],
   "source": [
    "class Contacto {\n",
    "    constructor(nombre, apellido, edad=0) {\n",
    "        this._nombre   = nombre;\n",
    "        this._apellido = apellido;\n",
    "        this._edad = edad\n",
    "    }\n",
    "\n",
    "    nombreCompleto() {\n",
    "        return `${this._nombre} ${this._apellido}`;\n",
    "    }\n",
    "\n",
    "    get nombre() {\n",
    "        return this._nombre;\n",
    "    }\n",
    "\n",
    "    get edad() {\n",
    "        return this._edad;\n",
    "    }   \n",
    "\n",
    "    set edad(valor){\n",
    "        if (valor < 0) {\n",
    "            console.error(\"La edad no puede ser negativa.\");\n",
    "        } else {\n",
    "            this._edad = valor;\n",
    "        }\n",
    "    }\n",
    "\n",
    "}\n",
    "\n",
    "let l = new Contacto(\"Luis\", \"Gómez\");\n",
    "l.edad = 25;\n",
    "console.log(`Hola, mi nombre es ${l.nombreCompleto()} y tengo ${l.edad} años.`);\n",
    "\n",
    "l.edad = -5; // Esto mostrará un error en la consola\n",
    "console.log(`Hola, mi nombre es ${l.nombreCompleto()} y tengo ${l.edad} años.`);\n",
    "\n",
    "l.edad += 1;\n",
    "l.edad = l.edad + 1; // Incrementar la edad en 1\n",
    "l.edad++;\n",
    "\n",
    "console.log(`Hola, mi nombre es ${l.nombreCompleto()} y tengo ${l.edad} años.`);"
   ]
  },
  {
   "cell_type": "code",
   "execution_count": 5,
   "id": "bb69bd17",
   "metadata": {},
   "outputs": [
    {
     "name": "stdout",
     "output_type": "stream",
     "text": [
      "[Function: proximoId]\n",
      "1004\n",
      "=== Catálogo de Productos ===\n",
      "Pepsi $1400 (x 5) [1001]\n",
      "Coca-Cola $1500 (x 8) [1000]\n",
      "Mirinda $1200 (x 12) [1003]\n",
      "Fanta $1300 (x 8) [1002]\n"
     ]
    }
   ],
   "source": [
    "class Producto{\n",
    "    static _proximoId = 1000;\n",
    "    static proximoId() {\n",
    "        return Producto._proximoId++;\n",
    "    }\n",
    "    constructor(nombre, precio, cantidad=0) {\n",
    "        this._nombre = nombre;\n",
    "        this._precio = precio;\n",
    "        this._cantidad = cantidad;\n",
    "        this._id = Producto.proximoId();\n",
    "    }\n",
    "\n",
    "    get id() {\n",
    "        return this._id;\n",
    "    }\n",
    "\n",
    "    get nombre() {\n",
    "        return this._nombre;\n",
    "    }\n",
    "\n",
    "    get precio() {\n",
    "        return this._precio;\n",
    "    }\n",
    "\n",
    "    set precio(valor) {\n",
    "        if (valor < 0) {\n",
    "            console.error(\"El precio no puede ser negativo.\");\n",
    "        } else {\n",
    "            this._precio = valor;\n",
    "        }\n",
    "    }\n",
    "\n",
    "    get importe() {\n",
    "        return this._precio * this._cantidad;\n",
    "    }\n",
    "\n",
    "    comprar(cantidad) {\n",
    "        if (cantidad < 0) {\n",
    "            console.error(\"La cantidad a comprar no puede ser negativa.\");\n",
    "        } else {\n",
    "            this._cantidad += cantidad;\n",
    "        }\n",
    "    }\n",
    "\n",
    "    vender(cantidad) {\n",
    "        if (cantidad < 0) {\n",
    "            console.error(\"La cantidad a vender no puede ser negativa.\");\n",
    "        } else if (cantidad > this._cantidad) {\n",
    "            console.error(\"No hay suficiente cantidad para vender.\");\n",
    "        } else {\n",
    "            this._cantidad -= cantidad;\n",
    "        }\n",
    "    }\n",
    "    descripcion() {\n",
    "        return `Producto: ${this._nombre}, Precio: $${this._precio} Cantidad: ${this._cantidad}), Importe total: $${this.importe}`;\n",
    "    }\n",
    "\n",
    "    toString() {\n",
    "        return `${this._nombre} $${this._precio} (x ${this._cantidad}) [${this._id}]`;\n",
    "    }\n",
    "}\n",
    "\n",
    "class Catologo {\n",
    "    constructor() {\n",
    "        this._productos = [];\n",
    "        // List<Producto> productos = new();\n",
    "    }\n",
    "\n",
    "    agregar(producto) {\n",
    "        this._productos.push(producto);\n",
    "    }\n",
    "\n",
    "    mostrar() {\n",
    "        console.log(\"=== Catálogo de Productos ===\");\n",
    "        for (let producto of this._productos) {\n",
    "            console.log(producto.toString());\n",
    "        }\n",
    "    }\n",
    "\n",
    "    get total() {\n",
    "        return this._productos\n",
    "            .filter(p => p.cantidad > 2)\n",
    "            .map(p => p.importe)\n",
    "            .reduce((suma, importe) => suma + importe, 0);\n",
    "    }\n",
    "\n",
    "    buscarPorId(id) {\n",
    "        return this._productos\n",
    "            .find(p => p.id === id);\n",
    "    }\n",
    "\n",
    "    buscarPorNombre(nombre) {\n",
    "        return this._productos\n",
    "            .filter(p => p.nombre.toLowerCase().includes(nombre.toLowerCase()));\n",
    "    }\n",
    "}\n",
    "\n",
    "let coca  = new Producto(\"Coca-Cola\", 1500, 10);\n",
    "let pepsi = new Producto(\"Pepsi\", 1400, 5);\n",
    "console.log(Producto.proximoId); // 1002\n",
    "let fanta = new Producto(\"Fanta\", 1300, 8);\n",
    "let mirinda = new Producto(\"Mirinda\", 1200, 12);\n",
    "console.log(Producto.proximoId()); // 1004\n",
    "\n",
    "let catalogo = new Catologo();\n",
    "catalogo.agregar(pepsi);\n",
    "catalogo.agregar(coca);\n",
    "coca.vender(2); // Vender 2 unidades de Coca-Cola\n",
    "catalogo.agregar(mirinda);\n",
    "catalogo.agregar(fanta);\n",
    "\n",
    "catalogo.mostrar();\n",
    "\n"
   ]
  },
  {
   "cell_type": "code",
   "execution_count": null,
   "id": "9c69c7ed",
   "metadata": {},
   "outputs": [
    {
     "name": "stdout",
     "output_type": "stream",
     "text": [
      "=== Lista Copia ===\n",
      "Coca-Cola $1500 (x 8) [1000]\n",
      "Pepsi $1400 (x 5) [1001]\n",
      "Mirinda $1200 (x 12) [1003]\n",
      "=== Lista Original ===\n",
      "Coca-Cola $1500 (x 8) [1000]\n",
      "Pepsi $1400 (x 5) [1001]\n",
      "Fanta $1300 (x 8) [1002]\n",
      "Mirinda $1200 (x 12) [1003]\n"
     ]
    }
   ],
   "source": [
    "let lista = [coca, pepsi, fanta, mirinda];\n",
    "// let copia = [...lista]; // Copia superficial de la lista\n",
    "// let i = lista.findIndex(p => p.id === pepsi.id);\n",
    "// copia.splice(1, 2, pepsi); \n",
    "\n",
    "let pm = new Producto(\"Pepsi\", 1450, 6);\n",
    "\n",
    "let agregada = [...borrada, pm]; \n",
    "let borrada  = lista.filter(p => p.id !== pm.id);\n",
    "let cambiar  = lista.map(p => p.nombre === pm.nombre ? pm: p);\n",
    "\n",
    "console.log(\"=== Lista Copia ===\");\n",
    "borrada.forEach(p => console.log(p.toString()));\n",
    "console.log(\"=== Lista Original ===\");\n",
    "lista.forEach(p => console.log(p.toString()));"
   ]
  }
 ],
 "metadata": {
  "kernelspec": {
   "display_name": "JavaScript (Node.js)",
   "language": "javascript",
   "name": "javascript"
  },
  "language_info": {
   "file_extension": ".js",
   "mimetype": "application/javascript",
   "name": "javascript",
   "version": "20.18.1"
  }
 },
 "nbformat": 4,
 "nbformat_minor": 5
}
