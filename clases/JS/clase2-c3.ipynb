{
 "cells": [
  {
   "cell_type": "code",
   "execution_count": 2,
   "id": "4117680a",
   "metadata": {},
   "outputs": [
    {
     "name": "stdout",
     "output_type": "stream",
     "text": [
      "Hola, mi nombre es Juan y tengo 30 años.\n",
      "Mi nombre completo es Juan Pérez.\n"
     ]
    }
   ],
   "source": [
    "var persona = {\n",
    "    nombre: \"Juan\",\n",
    "    apellido: \"Pérez\",\n",
    "    edad: 30,\n",
    "    nombreCompleto: function () {\n",
    "        return `${persona.nombre} ${persona.apellido}`;\n",
    "    }\n",
    "}\n",
    "\n",
    "console.log(`Hola, mi nombre es ${persona.nombre} y tengo ${persona.edad} años.`);\n",
    "console.log(`Mi nombre completo es ${persona.nombreCompleto()}.`);\n",
    "\n"
   ]
  },
  {
   "cell_type": "code",
   "execution_count": 3,
   "id": "60f202c4",
   "metadata": {},
   "outputs": [
    {
     "name": "stdout",
     "output_type": "stream",
     "text": [
      "El punto tiene coordenadas: (30, 40)\n",
      "El punto tiene coordenadas: (10, 20)\n"
     ]
    }
   ],
   "source": [
    "var punto = { x: 10, y: 20 };\n",
    "\n",
    "function Punto(x, y) {\n",
    "    var esto = {};\n",
    "    esto.x = x;\n",
    "    esto.y = y;\n",
    "    return esto;\n",
    "}\n",
    "\n",
    "var a = Punto(30, 40);\n",
    "console.log(`El punto tiene coordenadas: (${a.x}, ${a.y})`);\n",
    "\n",
    "var b = Punto(10, 20);\n",
    "console.log(`El punto tiene coordenadas: (${b.x}, ${b.y})`);\n"
   ]
  },
  {
   "cell_type": "code",
   "execution_count": 4,
   "id": "29eb4dd1",
   "metadata": {},
   "outputs": [
    {
     "name": "stdout",
     "output_type": "stream",
     "text": [
      "El punto tiene coordenadas: Punto(x: 30, y: 40)\n",
      "El punto tiene coordenadas: Punto(x: 10, y: 20)\n"
     ]
    }
   ],
   "source": [
    "\n",
    "var Punto2D = function (x, y) {\n",
    "    this.x = x;\n",
    "    this.y = y;\n",
    "    this.toString = function () {\n",
    "        return `Punto(x: ${this.x}, y: ${this.y})`;\n",
    "    };\n",
    "}\n",
    "\n",
    "var a = new Punto2D(30, 40);\n",
    "console.log(`El punto tiene coordenadas: ${a.toString()}`);\n",
    "\n",
    "var b = new Punto2D(10, 20);\n",
    "console.log(`El punto tiene coordenadas: ${b.toString()}`);\n"
   ]
  },
  {
   "cell_type": "code",
   "execution_count": null,
   "id": "b2cadfd6",
   "metadata": {},
   "outputs": [
    {
     "name": "stdout",
     "output_type": "stream",
     "text": [
      "(1, 2, 3) 3.7416573867739413\n",
      "(4, 5, 6) 8.774964387392123\n",
      "3.7416573867739413\n"
     ]
    }
   ],
   "source": [
    "class Punto3D {\n",
    "    \n",
    "    constructor(x, y, z) {\n",
    "        this.x = x;\n",
    "        this.y = y;\n",
    "        this.z = z;\n",
    "    }\n",
    "    \n",
    "    toString() {\n",
    "        return `(${this.x}, ${this.y}, ${this.z})`;\n",
    "    }\n",
    "\n",
    "    get distanciaAlOrigen() {\n",
    "        return Math.sqrt(this.x ** 2 + this.y ** 2 + this.z ** 2);\n",
    "    }\n",
    "    \n",
    "    distanciaAl(punto) {\n",
    "        return Math.sqrt((this.x - punto.x) ** 2 + (this.y - punto.y) ** 2 + (this.z - punto.z) ** 2);\n",
    "    }\n",
    "}\n",
    "\n",
    "var o = new Punto3D(0, 0, 0);\n",
    "var v = new Punto3D(1, 2, 3);\n",
    "var w = new Punto3D(4, 5, 6);\n",
    "console.log(v.toString(), v.distanciaAlOrigen); // Output: (1, 2, 3) 3.7416573867739413\n",
    "console.log(w.toString(), w.distanciaAlOrigen); // Output: (4, 5, 6) 8.774964387392123\n",
    "console.log(v.distanciaAl(o)); // Output: 5.196152422706632"
   ]
  }
 ],
 "metadata": {
  "kernelspec": {
   "display_name": "JavaScript (Node.js)",
   "language": "javascript",
   "name": "javascript"
  },
  "language_info": {
   "file_extension": ".js",
   "mimetype": "application/javascript",
   "name": "javascript",
   "version": "20.18.1"
  }
 },
 "nbformat": 4,
 "nbformat_minor": 5
}
